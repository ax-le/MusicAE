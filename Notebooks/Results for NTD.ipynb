{
 "cells": [
  {
   "cell_type": "markdown",
   "id": "b0f7ffd6",
   "metadata": {},
   "source": [
    "This Notebook contains the results for the Nonnegative Tucker Decomposition methd (NTD), from [1].\n",
    "\n",
    "Results are based on two-fold cross-validation, by splitting the RWC Pop dataset between odd and even songs.\n",
    "\n",
    "Results are then averaged on both test subsets.\n",
    "\n",
    "This notebook **is not intended to be rerun** (because code is contained is MusicNTD package, not in MusicAE) and should surely result in an error.\n",
    "\n",
    "This is made this way so that MusicNTD does not appear on the list of dependencies for MusicAE package.\n",
    "\n",
    "If you want to reproduce these results, you'll have to use the Notebooks in the MusicNTD package (https://gitlab.inria.fr/amarmore/musicntd)."
   ]
  },
  {
   "cell_type": "code",
   "execution_count": 1,
   "id": "f1f5a7c6",
   "metadata": {
    "ExecuteTime": {
     "end_time": "2021-10-05T16:35:53.673545Z",
     "start_time": "2021-10-05T16:35:52.277628Z"
    }
   },
   "outputs": [],
   "source": [
    "import numpy as np\n",
    "import musicntd.scripts.final_tests as tests"
   ]
  },
  {
   "cell_type": "code",
   "execution_count": 29,
   "id": "66c5d7ed",
   "metadata": {
    "ExecuteTime": {
     "end_time": "2021-10-06T13:09:31.218051Z",
     "start_time": "2021-10-06T12:47:30.645769Z"
    }
   },
   "outputs": [
    {
     "data": {
      "text/html": [
       "<div>\n",
       "<style scoped>\n",
       "    .dataframe tbody tr th:only-of-type {\n",
       "        vertical-align: middle;\n",
       "    }\n",
       "\n",
       "    .dataframe tbody tr th {\n",
       "        vertical-align: top;\n",
       "    }\n",
       "\n",
       "    .dataframe thead th {\n",
       "        text-align: right;\n",
       "    }\n",
       "</style>\n",
       "<table border=\"1\" class=\"dataframe\">\n",
       "  <thead>\n",
       "    <tr style=\"text-align: right;\">\n",
       "      <th></th>\n",
       "      <th>Best rank for $W$</th>\n",
       "      <th>Best rank for $H$</th>\n",
       "      <th>Best rank for $Q$</th>\n",
       "      <th>Best lambda: ponderation parameter.</th>\n",
       "    </tr>\n",
       "  </thead>\n",
       "  <tbody>\n",
       "    <tr>\n",
       "      <th>Learned parameters</th>\n",
       "      <td>12</td>\n",
       "      <td>36</td>\n",
       "      <td>36</td>\n",
       "      <td>1</td>\n",
       "    </tr>\n",
       "  </tbody>\n",
       "</table>\n",
       "</div>"
      ],
      "text/plain": [
       "                    Best rank for $W$  Best rank for $H$  Best rank for $Q$  \\\n",
       "Learned parameters                 12                 36                 36   \n",
       "\n",
       "                    Best lambda: ponderation parameter.  \n",
       "Learned parameters                                    1  "
      ]
     },
     "metadata": {},
     "output_type": "display_data"
    },
    {
     "data": {
      "text/html": [
       "<div>\n",
       "<style scoped>\n",
       "    .dataframe tbody tr th:only-of-type {\n",
       "        vertical-align: middle;\n",
       "    }\n",
       "\n",
       "    .dataframe tbody tr th {\n",
       "        vertical-align: top;\n",
       "    }\n",
       "\n",
       "    .dataframe thead th {\n",
       "        text-align: right;\n",
       "    }\n",
       "</style>\n",
       "<table border=\"1\" class=\"dataframe\">\n",
       "  <thead>\n",
       "    <tr style=\"text-align: right;\">\n",
       "      <th></th>\n",
       "      <th>True Positives</th>\n",
       "      <th>False Positives</th>\n",
       "      <th>False Negatives</th>\n",
       "      <th>Precision</th>\n",
       "      <th>Recall</th>\n",
       "      <th>F measure</th>\n",
       "    </tr>\n",
       "  </thead>\n",
       "  <tbody>\n",
       "    <tr>\n",
       "      <th>Results of pcp with 0.5 seconds tolerance window on test dataset.</th>\n",
       "      <td>11.36</td>\n",
       "      <td>8.88</td>\n",
       "      <td>7.82</td>\n",
       "      <td>0.5739</td>\n",
       "      <td>0.6041</td>\n",
       "      <td>0.5804</td>\n",
       "    </tr>\n",
       "  </tbody>\n",
       "</table>\n",
       "</div>"
      ],
      "text/plain": [
       "                                                    True Positives  \\\n",
       "Results of pcp with 0.5 seconds tolerance windo...           11.36   \n",
       "\n",
       "                                                    False Positives  \\\n",
       "Results of pcp with 0.5 seconds tolerance windo...             8.88   \n",
       "\n",
       "                                                    False Negatives  \\\n",
       "Results of pcp with 0.5 seconds tolerance windo...             7.82   \n",
       "\n",
       "                                                    Precision  Recall  \\\n",
       "Results of pcp with 0.5 seconds tolerance windo...     0.5739  0.6041   \n",
       "\n",
       "                                                    F measure  \n",
       "Results of pcp with 0.5 seconds tolerance windo...     0.5804  "
      ]
     },
     "metadata": {},
     "output_type": "display_data"
    },
    {
     "data": {
      "text/html": [
       "<div>\n",
       "<style scoped>\n",
       "    .dataframe tbody tr th:only-of-type {\n",
       "        vertical-align: middle;\n",
       "    }\n",
       "\n",
       "    .dataframe tbody tr th {\n",
       "        vertical-align: top;\n",
       "    }\n",
       "\n",
       "    .dataframe thead th {\n",
       "        text-align: right;\n",
       "    }\n",
       "</style>\n",
       "<table border=\"1\" class=\"dataframe\">\n",
       "  <thead>\n",
       "    <tr style=\"text-align: right;\">\n",
       "      <th></th>\n",
       "      <th>True Positives</th>\n",
       "      <th>False Positives</th>\n",
       "      <th>False Negatives</th>\n",
       "      <th>Precision</th>\n",
       "      <th>Recall</th>\n",
       "      <th>F measure</th>\n",
       "    </tr>\n",
       "  </thead>\n",
       "  <tbody>\n",
       "    <tr>\n",
       "      <th>Results of pcp with 3 seconds tolerance window on test dataset.</th>\n",
       "      <td>14.06</td>\n",
       "      <td>6.18</td>\n",
       "      <td>5.12</td>\n",
       "      <td>0.7086</td>\n",
       "      <td>0.7434</td>\n",
       "      <td>0.716</td>\n",
       "    </tr>\n",
       "  </tbody>\n",
       "</table>\n",
       "</div>"
      ],
      "text/plain": [
       "                                                    True Positives  \\\n",
       "Results of pcp with 3 seconds tolerance window ...           14.06   \n",
       "\n",
       "                                                    False Positives  \\\n",
       "Results of pcp with 3 seconds tolerance window ...             6.18   \n",
       "\n",
       "                                                    False Negatives  \\\n",
       "Results of pcp with 3 seconds tolerance window ...             5.12   \n",
       "\n",
       "                                                    Precision  Recall  \\\n",
       "Results of pcp with 3 seconds tolerance window ...     0.7086  0.7434   \n",
       "\n",
       "                                                    F measure  \n",
       "Results of pcp with 3 seconds tolerance window ...      0.716  "
      ]
     },
     "metadata": {},
     "output_type": "display_data"
    },
    {
     "data": {
      "text/html": [
       "<div>\n",
       "<style scoped>\n",
       "    .dataframe tbody tr th:only-of-type {\n",
       "        vertical-align: middle;\n",
       "    }\n",
       "\n",
       "    .dataframe tbody tr th {\n",
       "        vertical-align: top;\n",
       "    }\n",
       "\n",
       "    .dataframe thead th {\n",
       "        text-align: right;\n",
       "    }\n",
       "</style>\n",
       "<table border=\"1\" class=\"dataframe\">\n",
       "  <thead>\n",
       "    <tr style=\"text-align: right;\">\n",
       "      <th></th>\n",
       "      <th>Best rank for $W$</th>\n",
       "      <th>Best rank for $H$</th>\n",
       "      <th>Best rank for $Q$</th>\n",
       "      <th>Best lambda: ponderation parameter.</th>\n",
       "    </tr>\n",
       "  </thead>\n",
       "  <tbody>\n",
       "    <tr>\n",
       "      <th>Learned parameters</th>\n",
       "      <td>12</td>\n",
       "      <td>48</td>\n",
       "      <td>24</td>\n",
       "      <td>1</td>\n",
       "    </tr>\n",
       "  </tbody>\n",
       "</table>\n",
       "</div>"
      ],
      "text/plain": [
       "                    Best rank for $W$  Best rank for $H$  Best rank for $Q$  \\\n",
       "Learned parameters                 12                 48                 24   \n",
       "\n",
       "                    Best lambda: ponderation parameter.  \n",
       "Learned parameters                                    1  "
      ]
     },
     "metadata": {},
     "output_type": "display_data"
    },
    {
     "data": {
      "text/html": [
       "<div>\n",
       "<style scoped>\n",
       "    .dataframe tbody tr th:only-of-type {\n",
       "        vertical-align: middle;\n",
       "    }\n",
       "\n",
       "    .dataframe tbody tr th {\n",
       "        vertical-align: top;\n",
       "    }\n",
       "\n",
       "    .dataframe thead th {\n",
       "        text-align: right;\n",
       "    }\n",
       "</style>\n",
       "<table border=\"1\" class=\"dataframe\">\n",
       "  <thead>\n",
       "    <tr style=\"text-align: right;\">\n",
       "      <th></th>\n",
       "      <th>True Positives</th>\n",
       "      <th>False Positives</th>\n",
       "      <th>False Negatives</th>\n",
       "      <th>Precision</th>\n",
       "      <th>Recall</th>\n",
       "      <th>F measure</th>\n",
       "    </tr>\n",
       "  </thead>\n",
       "  <tbody>\n",
       "    <tr>\n",
       "      <th>Results of pcp with 0.5 seconds tolerance window on test dataset.</th>\n",
       "      <td>11.34</td>\n",
       "      <td>7.98</td>\n",
       "      <td>7.1</td>\n",
       "      <td>0.5946</td>\n",
       "      <td>0.6096</td>\n",
       "      <td>0.599</td>\n",
       "    </tr>\n",
       "  </tbody>\n",
       "</table>\n",
       "</div>"
      ],
      "text/plain": [
       "                                                    True Positives  \\\n",
       "Results of pcp with 0.5 seconds tolerance windo...           11.34   \n",
       "\n",
       "                                                    False Positives  \\\n",
       "Results of pcp with 0.5 seconds tolerance windo...             7.98   \n",
       "\n",
       "                                                    False Negatives  \\\n",
       "Results of pcp with 0.5 seconds tolerance windo...              7.1   \n",
       "\n",
       "                                                    Precision  Recall  \\\n",
       "Results of pcp with 0.5 seconds tolerance windo...     0.5946  0.6096   \n",
       "\n",
       "                                                    F measure  \n",
       "Results of pcp with 0.5 seconds tolerance windo...      0.599  "
      ]
     },
     "metadata": {},
     "output_type": "display_data"
    },
    {
     "data": {
      "text/html": [
       "<div>\n",
       "<style scoped>\n",
       "    .dataframe tbody tr th:only-of-type {\n",
       "        vertical-align: middle;\n",
       "    }\n",
       "\n",
       "    .dataframe tbody tr th {\n",
       "        vertical-align: top;\n",
       "    }\n",
       "\n",
       "    .dataframe thead th {\n",
       "        text-align: right;\n",
       "    }\n",
       "</style>\n",
       "<table border=\"1\" class=\"dataframe\">\n",
       "  <thead>\n",
       "    <tr style=\"text-align: right;\">\n",
       "      <th></th>\n",
       "      <th>True Positives</th>\n",
       "      <th>False Positives</th>\n",
       "      <th>False Negatives</th>\n",
       "      <th>Precision</th>\n",
       "      <th>Recall</th>\n",
       "      <th>F measure</th>\n",
       "    </tr>\n",
       "  </thead>\n",
       "  <tbody>\n",
       "    <tr>\n",
       "      <th>Results of pcp with 3 seconds tolerance window on test dataset.</th>\n",
       "      <td>14.2</td>\n",
       "      <td>5.12</td>\n",
       "      <td>4.24</td>\n",
       "      <td>0.7414</td>\n",
       "      <td>0.7622</td>\n",
       "      <td>0.7479</td>\n",
       "    </tr>\n",
       "  </tbody>\n",
       "</table>\n",
       "</div>"
      ],
      "text/plain": [
       "                                                    True Positives  \\\n",
       "Results of pcp with 3 seconds tolerance window ...            14.2   \n",
       "\n",
       "                                                    False Positives  \\\n",
       "Results of pcp with 3 seconds tolerance window ...             5.12   \n",
       "\n",
       "                                                    False Negatives  \\\n",
       "Results of pcp with 3 seconds tolerance window ...             4.24   \n",
       "\n",
       "                                                    Precision  Recall  \\\n",
       "Results of pcp with 3 seconds tolerance window ...     0.7414  0.7622   \n",
       "\n",
       "                                                    F measure  \n",
       "Results of pcp with 3 seconds tolerance window ...     0.7479  "
      ]
     },
     "metadata": {},
     "output_type": "display_data"
    },
    {
     "name": "stdout",
     "output_type": "stream",
     "text": [
      "0.5 seconds: [0.584256, 0.606878, 0.589728]\n",
      "3 seconds: [0.724988, 0.752802, 0.731953]\n"
     ]
    }
   ],
   "source": [
    "penalty_range = [1]\n",
    "core_dimensions_list = [12,16,20,24,28,32,36,40,44,48] \n",
    "odd_params, odd_zero_five, odd_three = tests.several_ranks_with_cross_validation_of_param_RWC(\"even_songs\", \"odd_songs\", \"pcp\", init = \"chromas\",\n",
    "                                                                                              ranks_frequency = [12], ranks_rhythm = core_dimensions_list, ranks_pattern = core_dimensions_list, \n",
    "                                                                                              penalty_range = penalty_range, update_rule = \"hals\", annotations_type = \"MIREX10\", penalty_func = \"modulo8\", convolution_type = \"mixed\")\n",
    "even_params, even_zero_five, even_three = tests.several_ranks_with_cross_validation_of_param_RWC(\"odd_songs\", \"even_songs\", \"pcp\", init = \"chromas\",\n",
    "                                                                                              ranks_frequency = [12], ranks_rhythm = core_dimensions_list, ranks_pattern = core_dimensions_list, \n",
    "                                                                                              penalty_range = penalty_range, update_rule = \"hals\", annotations_type = \"MIREX10\", penalty_func = \"modulo8\", convolution_type = \"mixed\")\n",
    "print(f\"0.5 seconds: {[(odd_zero_five[i] + even_zero_five[i])/2 for i in range(3,6)]}\")\n",
    "print(f\"3 seconds: {[(odd_three[i] + even_three[i])/2 for i in range(3,6)]}\")"
   ]
  },
  {
   "cell_type": "markdown",
   "id": "9d8be73d",
   "metadata": {},
   "source": [
    "# References\n",
    "\n",
    "[1] Marmoret, A., Cohen, J., Bertin, N., & Bimbot, F. (2020, October). Uncovering Audio Patterns in Music with Nonnegative Tucker Decomposition for Structural Segmentation. In ISMIR 2020-21st International Society for Music Information Retrieval."
   ]
  }
 ],
 "metadata": {
  "kernelspec": {
   "display_name": "Python 3",
   "language": "python",
   "name": "python3"
  },
  "language_info": {
   "codemirror_mode": {
    "name": "ipython",
    "version": 3
   },
   "file_extension": ".py",
   "mimetype": "text/x-python",
   "name": "python",
   "nbconvert_exporter": "python",
   "pygments_lexer": "ipython3",
   "version": "3.7.6"
  },
  "toc": {
   "base_numbering": 1,
   "nav_menu": {},
   "number_sections": true,
   "sideBar": true,
   "skip_h1_title": false,
   "title_cell": "Table of Contents",
   "title_sidebar": "Contents",
   "toc_cell": false,
   "toc_position": {},
   "toc_section_display": true,
   "toc_window_display": false
  },
  "varInspector": {
   "cols": {
    "lenName": 16,
    "lenType": 16,
    "lenVar": 40
   },
   "kernels_config": {
    "python": {
     "delete_cmd_postfix": "",
     "delete_cmd_prefix": "del ",
     "library": "var_list.py",
     "varRefreshCmd": "print(var_dic_list())"
    },
    "r": {
     "delete_cmd_postfix": ") ",
     "delete_cmd_prefix": "rm(",
     "library": "var_list.r",
     "varRefreshCmd": "cat(var_dic_list()) "
    }
   },
   "types_to_exclude": [
    "module",
    "function",
    "builtin_function_or_method",
    "instance",
    "_Feature"
   ],
   "window_display": false
  }
 },
 "nbformat": 4,
 "nbformat_minor": 5
}
