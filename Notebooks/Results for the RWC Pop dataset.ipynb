{
 "cells": [
  {
   "cell_type": "code",
   "execution_count": 1,
   "metadata": {
    "ExecuteTime": {
     "end_time": "2021-09-23T10:06:12.638380Z",
     "start_time": "2021-09-23T10:06:04.441309Z"
    }
   },
   "outputs": [],
   "source": [
    "#import numpy as np\n",
    "import musicae.scripts.tests_article as ta"
   ]
  },
  {
   "cell_type": "code",
   "execution_count": 2,
   "metadata": {
    "ExecuteTime": {
     "end_time": "2021-09-23T10:06:12.646362Z",
     "start_time": "2021-09-23T10:06:12.641368Z"
    }
   },
   "outputs": [],
   "source": [
    "# Testing different latent spaces dimensions\n",
    "list_dim_latent = [8,16,24,32,40]\n",
    "\n",
    "## Large sparsity range (only or Cross-validation)\n",
    "#sparse_range = np.concatenate((np.arange(5e-4, 1e-3, 1e-4), np.arange(1e-3, 1e-2, 1e-3), np.arange(1e-2, 1e-1, 1e-2), np.arange(1e-1, 5.1e-1, 1e-1)))\n",
    "#sparse_range = [float(round(i, 5)) for i in sparse_range]\n",
    "\n",
    "## No sparsity at all\n",
    "sparse_range = [None]"
   ]
  },
  {
   "cell_type": "markdown",
   "metadata": {},
   "source": [
    "Our algorithm persists latent projection once they are computed, in order to faciliate tests. Hence, it tries to load results before computing the optimization. \n",
    "\n",
    "The argument below handles the case where a projection is not found. In our test cases, neural nets are already computed, so we don't want to recompute them and ask for the algorithm to raise an error if a neural net isn't found.\n",
    "If networks are not computed in your case, you have to set this argument to True, for the algorithm to compute them when it doesn't find them.\n",
    "\n",
    "Note though that the default behavior is to store the result of the projection, so you should create a folder somewhere to store these computations (or modify the code in consequence)."
   ]
  },
  {
   "cell_type": "code",
   "execution_count": 3,
   "metadata": {
    "ExecuteTime": {
     "end_time": "2021-09-23T10:06:12.657325Z",
     "start_time": "2021-09-23T10:06:12.651341Z"
    }
   },
   "outputs": [],
   "source": [
    "compute_if_not_persisted = False"
   ]
  },
  {
   "cell_type": "markdown",
   "metadata": {},
   "source": [
    "# Chromas"
   ]
  },
  {
   "cell_type": "code",
   "execution_count": 4,
   "metadata": {
    "ExecuteTime": {
     "end_time": "2021-09-23T10:07:31.283116Z",
     "start_time": "2021-09-23T10:06:12.661314Z"
    }
   },
   "outputs": [
    {
     "name": "stdout",
     "output_type": "stream",
     "text": [
      "dls: 8\n"
     ]
    },
    {
     "data": {
      "text/html": [
       "<div>\n",
       "<style scoped>\n",
       "    .dataframe tbody tr th:only-of-type {\n",
       "        vertical-align: middle;\n",
       "    }\n",
       "\n",
       "    .dataframe tbody tr th {\n",
       "        vertical-align: top;\n",
       "    }\n",
       "\n",
       "    .dataframe thead th {\n",
       "        text-align: right;\n",
       "    }\n",
       "</style>\n",
       "<table border=\"1\" class=\"dataframe\">\n",
       "  <thead>\n",
       "    <tr style=\"text-align: right;\">\n",
       "      <th></th>\n",
       "      <th>Precision</th>\n",
       "      <th>Recall</th>\n",
       "      <th>F measure</th>\n",
       "    </tr>\n",
       "  </thead>\n",
       "  <tbody>\n",
       "    <tr>\n",
       "      <th>Results with 0.5 seconds tolerance window feature pcp and latent space dimension of 8</th>\n",
       "      <td>0.4969</td>\n",
       "      <td>0.5156</td>\n",
       "      <td>0.5003</td>\n",
       "    </tr>\n",
       "    <tr>\n",
       "      <th>Results with 3 seconds tolerance window feature pcp and latent space dimension of 8</th>\n",
       "      <td>0.6874</td>\n",
       "      <td>0.7094</td>\n",
       "      <td>0.6914</td>\n",
       "    </tr>\n",
       "  </tbody>\n",
       "</table>\n",
       "</div>"
      ],
      "text/plain": [
       "                                                    Precision  Recall  \\\n",
       "Results with 0.5 seconds tolerance window featu...     0.4969  0.5156   \n",
       "Results with 3 seconds tolerance window feature...     0.6874  0.7094   \n",
       "\n",
       "                                                    F measure  \n",
       "Results with 0.5 seconds tolerance window featu...     0.5003  \n",
       "Results with 3 seconds tolerance window feature...     0.6914  "
      ]
     },
     "metadata": {},
     "output_type": "display_data"
    },
    {
     "name": "stdout",
     "output_type": "stream",
     "text": [
      "dls: 16\n"
     ]
    },
    {
     "data": {
      "text/html": [
       "<div>\n",
       "<style scoped>\n",
       "    .dataframe tbody tr th:only-of-type {\n",
       "        vertical-align: middle;\n",
       "    }\n",
       "\n",
       "    .dataframe tbody tr th {\n",
       "        vertical-align: top;\n",
       "    }\n",
       "\n",
       "    .dataframe thead th {\n",
       "        text-align: right;\n",
       "    }\n",
       "</style>\n",
       "<table border=\"1\" class=\"dataframe\">\n",
       "  <thead>\n",
       "    <tr style=\"text-align: right;\">\n",
       "      <th></th>\n",
       "      <th>Precision</th>\n",
       "      <th>Recall</th>\n",
       "      <th>F measure</th>\n",
       "    </tr>\n",
       "  </thead>\n",
       "  <tbody>\n",
       "    <tr>\n",
       "      <th>Results with 0.5 seconds tolerance window feature pcp and latent space dimension of 16</th>\n",
       "      <td>0.5177</td>\n",
       "      <td>0.5402</td>\n",
       "      <td>0.5234</td>\n",
       "    </tr>\n",
       "    <tr>\n",
       "      <th>Results with 3 seconds tolerance window feature pcp and latent space dimension of 16</th>\n",
       "      <td>0.7045</td>\n",
       "      <td>0.7329</td>\n",
       "      <td>0.7122</td>\n",
       "    </tr>\n",
       "  </tbody>\n",
       "</table>\n",
       "</div>"
      ],
      "text/plain": [
       "                                                    Precision  Recall  \\\n",
       "Results with 0.5 seconds tolerance window featu...     0.5177  0.5402   \n",
       "Results with 3 seconds tolerance window feature...     0.7045  0.7329   \n",
       "\n",
       "                                                    F measure  \n",
       "Results with 0.5 seconds tolerance window featu...     0.5234  \n",
       "Results with 3 seconds tolerance window feature...     0.7122  "
      ]
     },
     "metadata": {},
     "output_type": "display_data"
    },
    {
     "name": "stdout",
     "output_type": "stream",
     "text": [
      "dls: 24\n"
     ]
    },
    {
     "data": {
      "text/html": [
       "<div>\n",
       "<style scoped>\n",
       "    .dataframe tbody tr th:only-of-type {\n",
       "        vertical-align: middle;\n",
       "    }\n",
       "\n",
       "    .dataframe tbody tr th {\n",
       "        vertical-align: top;\n",
       "    }\n",
       "\n",
       "    .dataframe thead th {\n",
       "        text-align: right;\n",
       "    }\n",
       "</style>\n",
       "<table border=\"1\" class=\"dataframe\">\n",
       "  <thead>\n",
       "    <tr style=\"text-align: right;\">\n",
       "      <th></th>\n",
       "      <th>Precision</th>\n",
       "      <th>Recall</th>\n",
       "      <th>F measure</th>\n",
       "    </tr>\n",
       "  </thead>\n",
       "  <tbody>\n",
       "    <tr>\n",
       "      <th>Results with 0.5 seconds tolerance window feature pcp and latent space dimension of 24</th>\n",
       "      <td>0.4949</td>\n",
       "      <td>0.5174</td>\n",
       "      <td>0.5011</td>\n",
       "    </tr>\n",
       "    <tr>\n",
       "      <th>Results with 3 seconds tolerance window feature pcp and latent space dimension of 24</th>\n",
       "      <td>0.7019</td>\n",
       "      <td>0.7281</td>\n",
       "      <td>0.7084</td>\n",
       "    </tr>\n",
       "  </tbody>\n",
       "</table>\n",
       "</div>"
      ],
      "text/plain": [
       "                                                    Precision  Recall  \\\n",
       "Results with 0.5 seconds tolerance window featu...     0.4949  0.5174   \n",
       "Results with 3 seconds tolerance window feature...     0.7019  0.7281   \n",
       "\n",
       "                                                    F measure  \n",
       "Results with 0.5 seconds tolerance window featu...     0.5011  \n",
       "Results with 3 seconds tolerance window feature...     0.7084  "
      ]
     },
     "metadata": {},
     "output_type": "display_data"
    },
    {
     "name": "stdout",
     "output_type": "stream",
     "text": [
      "dls: 32\n"
     ]
    },
    {
     "data": {
      "text/html": [
       "<div>\n",
       "<style scoped>\n",
       "    .dataframe tbody tr th:only-of-type {\n",
       "        vertical-align: middle;\n",
       "    }\n",
       "\n",
       "    .dataframe tbody tr th {\n",
       "        vertical-align: top;\n",
       "    }\n",
       "\n",
       "    .dataframe thead th {\n",
       "        text-align: right;\n",
       "    }\n",
       "</style>\n",
       "<table border=\"1\" class=\"dataframe\">\n",
       "  <thead>\n",
       "    <tr style=\"text-align: right;\">\n",
       "      <th></th>\n",
       "      <th>Precision</th>\n",
       "      <th>Recall</th>\n",
       "      <th>F measure</th>\n",
       "    </tr>\n",
       "  </thead>\n",
       "  <tbody>\n",
       "    <tr>\n",
       "      <th>Results with 0.5 seconds tolerance window feature pcp and latent space dimension of 32</th>\n",
       "      <td>0.5013</td>\n",
       "      <td>0.5203</td>\n",
       "      <td>0.5055</td>\n",
       "    </tr>\n",
       "    <tr>\n",
       "      <th>Results with 3 seconds tolerance window feature pcp and latent space dimension of 32</th>\n",
       "      <td>0.7138</td>\n",
       "      <td>0.7355</td>\n",
       "      <td>0.7179</td>\n",
       "    </tr>\n",
       "  </tbody>\n",
       "</table>\n",
       "</div>"
      ],
      "text/plain": [
       "                                                    Precision  Recall  \\\n",
       "Results with 0.5 seconds tolerance window featu...     0.5013  0.5203   \n",
       "Results with 3 seconds tolerance window feature...     0.7138  0.7355   \n",
       "\n",
       "                                                    F measure  \n",
       "Results with 0.5 seconds tolerance window featu...     0.5055  \n",
       "Results with 3 seconds tolerance window feature...     0.7179  "
      ]
     },
     "metadata": {},
     "output_type": "display_data"
    },
    {
     "name": "stdout",
     "output_type": "stream",
     "text": [
      "dls: 40\n"
     ]
    },
    {
     "data": {
      "text/html": [
       "<div>\n",
       "<style scoped>\n",
       "    .dataframe tbody tr th:only-of-type {\n",
       "        vertical-align: middle;\n",
       "    }\n",
       "\n",
       "    .dataframe tbody tr th {\n",
       "        vertical-align: top;\n",
       "    }\n",
       "\n",
       "    .dataframe thead th {\n",
       "        text-align: right;\n",
       "    }\n",
       "</style>\n",
       "<table border=\"1\" class=\"dataframe\">\n",
       "  <thead>\n",
       "    <tr style=\"text-align: right;\">\n",
       "      <th></th>\n",
       "      <th>Precision</th>\n",
       "      <th>Recall</th>\n",
       "      <th>F measure</th>\n",
       "    </tr>\n",
       "  </thead>\n",
       "  <tbody>\n",
       "    <tr>\n",
       "      <th>Results with 0.5 seconds tolerance window feature pcp and latent space dimension of 40</th>\n",
       "      <td>0.5067</td>\n",
       "      <td>0.5325</td>\n",
       "      <td>0.5141</td>\n",
       "    </tr>\n",
       "    <tr>\n",
       "      <th>Results with 3 seconds tolerance window feature pcp and latent space dimension of 40</th>\n",
       "      <td>0.7124</td>\n",
       "      <td>0.7407</td>\n",
       "      <td>0.7196</td>\n",
       "    </tr>\n",
       "  </tbody>\n",
       "</table>\n",
       "</div>"
      ],
      "text/plain": [
       "                                                    Precision  Recall  \\\n",
       "Results with 0.5 seconds tolerance window featu...     0.5067  0.5325   \n",
       "Results with 3 seconds tolerance window feature...     0.7124  0.7407   \n",
       "\n",
       "                                                    F measure  \n",
       "Results with 0.5 seconds tolerance window featu...     0.5141  \n",
       "Results with 3 seconds tolerance window feature...     0.7196  "
      ]
     },
     "metadata": {},
     "output_type": "display_data"
    }
   ],
   "source": [
    "feature = \"pcp\"\n",
    "for dls in list_dim_latent:\n",
    "    print(f\"dls: {dls}\")\n",
    "    results = ta.final_results_fixed_conditions_rwc(dataset = \"full\", feature = feature, dim_latent_space = dls, \n",
    "                                                    sparsity_lambda = None, compute_if_not_persisted = compute_if_not_persisted, legend = f\"feature {feature} and latent space dimension of {dls}\")"
   ]
  },
  {
   "cell_type": "markdown",
   "metadata": {},
   "source": [
    "# Mel"
   ]
  },
  {
   "cell_type": "code",
   "execution_count": 5,
   "metadata": {
    "ExecuteTime": {
     "end_time": "2021-09-23T10:11:02.447909Z",
     "start_time": "2021-09-23T10:07:31.285070Z"
    }
   },
   "outputs": [
    {
     "name": "stdout",
     "output_type": "stream",
     "text": [
      "dls: 8\n"
     ]
    },
    {
     "data": {
      "text/html": [
       "<div>\n",
       "<style scoped>\n",
       "    .dataframe tbody tr th:only-of-type {\n",
       "        vertical-align: middle;\n",
       "    }\n",
       "\n",
       "    .dataframe tbody tr th {\n",
       "        vertical-align: top;\n",
       "    }\n",
       "\n",
       "    .dataframe thead th {\n",
       "        text-align: right;\n",
       "    }\n",
       "</style>\n",
       "<table border=\"1\" class=\"dataframe\">\n",
       "  <thead>\n",
       "    <tr style=\"text-align: right;\">\n",
       "      <th></th>\n",
       "      <th>Precision</th>\n",
       "      <th>Recall</th>\n",
       "      <th>F measure</th>\n",
       "    </tr>\n",
       "  </thead>\n",
       "  <tbody>\n",
       "    <tr>\n",
       "      <th>Results with 0.5 seconds tolerance window feature mel_grill and latent space dimension of 8</th>\n",
       "      <td>0.5033</td>\n",
       "      <td>0.5266</td>\n",
       "      <td>0.5102</td>\n",
       "    </tr>\n",
       "    <tr>\n",
       "      <th>Results with 3 seconds tolerance window feature mel_grill and latent space dimension of 8</th>\n",
       "      <td>0.7113</td>\n",
       "      <td>0.7457</td>\n",
       "      <td>0.7217</td>\n",
       "    </tr>\n",
       "  </tbody>\n",
       "</table>\n",
       "</div>"
      ],
      "text/plain": [
       "                                                    Precision  Recall  \\\n",
       "Results with 0.5 seconds tolerance window featu...     0.5033  0.5266   \n",
       "Results with 3 seconds tolerance window feature...     0.7113  0.7457   \n",
       "\n",
       "                                                    F measure  \n",
       "Results with 0.5 seconds tolerance window featu...     0.5102  \n",
       "Results with 3 seconds tolerance window feature...     0.7217  "
      ]
     },
     "metadata": {},
     "output_type": "display_data"
    },
    {
     "name": "stdout",
     "output_type": "stream",
     "text": [
      "dls: 16\n"
     ]
    },
    {
     "data": {
      "text/html": [
       "<div>\n",
       "<style scoped>\n",
       "    .dataframe tbody tr th:only-of-type {\n",
       "        vertical-align: middle;\n",
       "    }\n",
       "\n",
       "    .dataframe tbody tr th {\n",
       "        vertical-align: top;\n",
       "    }\n",
       "\n",
       "    .dataframe thead th {\n",
       "        text-align: right;\n",
       "    }\n",
       "</style>\n",
       "<table border=\"1\" class=\"dataframe\">\n",
       "  <thead>\n",
       "    <tr style=\"text-align: right;\">\n",
       "      <th></th>\n",
       "      <th>Precision</th>\n",
       "      <th>Recall</th>\n",
       "      <th>F measure</th>\n",
       "    </tr>\n",
       "  </thead>\n",
       "  <tbody>\n",
       "    <tr>\n",
       "      <th>Results with 0.5 seconds tolerance window feature mel_grill and latent space dimension of 16</th>\n",
       "      <td>0.4997</td>\n",
       "      <td>0.5275</td>\n",
       "      <td>0.5089</td>\n",
       "    </tr>\n",
       "    <tr>\n",
       "      <th>Results with 3 seconds tolerance window feature mel_grill and latent space dimension of 16</th>\n",
       "      <td>0.7147</td>\n",
       "      <td>0.7533</td>\n",
       "      <td>0.7271</td>\n",
       "    </tr>\n",
       "  </tbody>\n",
       "</table>\n",
       "</div>"
      ],
      "text/plain": [
       "                                                    Precision  Recall  \\\n",
       "Results with 0.5 seconds tolerance window featu...     0.4997  0.5275   \n",
       "Results with 3 seconds tolerance window feature...     0.7147  0.7533   \n",
       "\n",
       "                                                    F measure  \n",
       "Results with 0.5 seconds tolerance window featu...     0.5089  \n",
       "Results with 3 seconds tolerance window feature...     0.7271  "
      ]
     },
     "metadata": {},
     "output_type": "display_data"
    },
    {
     "name": "stdout",
     "output_type": "stream",
     "text": [
      "dls: 24\n"
     ]
    },
    {
     "data": {
      "text/html": [
       "<div>\n",
       "<style scoped>\n",
       "    .dataframe tbody tr th:only-of-type {\n",
       "        vertical-align: middle;\n",
       "    }\n",
       "\n",
       "    .dataframe tbody tr th {\n",
       "        vertical-align: top;\n",
       "    }\n",
       "\n",
       "    .dataframe thead th {\n",
       "        text-align: right;\n",
       "    }\n",
       "</style>\n",
       "<table border=\"1\" class=\"dataframe\">\n",
       "  <thead>\n",
       "    <tr style=\"text-align: right;\">\n",
       "      <th></th>\n",
       "      <th>Precision</th>\n",
       "      <th>Recall</th>\n",
       "      <th>F measure</th>\n",
       "    </tr>\n",
       "  </thead>\n",
       "  <tbody>\n",
       "    <tr>\n",
       "      <th>Results with 0.5 seconds tolerance window feature mel_grill and latent space dimension of 24</th>\n",
       "      <td>0.5182</td>\n",
       "      <td>0.5453</td>\n",
       "      <td>0.5269</td>\n",
       "    </tr>\n",
       "    <tr>\n",
       "      <th>Results with 3 seconds tolerance window feature mel_grill and latent space dimension of 24</th>\n",
       "      <td>0.7220</td>\n",
       "      <td>0.7587</td>\n",
       "      <td>0.7335</td>\n",
       "    </tr>\n",
       "  </tbody>\n",
       "</table>\n",
       "</div>"
      ],
      "text/plain": [
       "                                                    Precision  Recall  \\\n",
       "Results with 0.5 seconds tolerance window featu...     0.5182  0.5453   \n",
       "Results with 3 seconds tolerance window feature...     0.7220  0.7587   \n",
       "\n",
       "                                                    F measure  \n",
       "Results with 0.5 seconds tolerance window featu...     0.5269  \n",
       "Results with 3 seconds tolerance window feature...     0.7335  "
      ]
     },
     "metadata": {},
     "output_type": "display_data"
    },
    {
     "name": "stdout",
     "output_type": "stream",
     "text": [
      "dls: 32\n"
     ]
    },
    {
     "data": {
      "text/html": [
       "<div>\n",
       "<style scoped>\n",
       "    .dataframe tbody tr th:only-of-type {\n",
       "        vertical-align: middle;\n",
       "    }\n",
       "\n",
       "    .dataframe tbody tr th {\n",
       "        vertical-align: top;\n",
       "    }\n",
       "\n",
       "    .dataframe thead th {\n",
       "        text-align: right;\n",
       "    }\n",
       "</style>\n",
       "<table border=\"1\" class=\"dataframe\">\n",
       "  <thead>\n",
       "    <tr style=\"text-align: right;\">\n",
       "      <th></th>\n",
       "      <th>Precision</th>\n",
       "      <th>Recall</th>\n",
       "      <th>F measure</th>\n",
       "    </tr>\n",
       "  </thead>\n",
       "  <tbody>\n",
       "    <tr>\n",
       "      <th>Results with 0.5 seconds tolerance window feature mel_grill and latent space dimension of 32</th>\n",
       "      <td>0.5220</td>\n",
       "      <td>0.5519</td>\n",
       "      <td>0.5323</td>\n",
       "    </tr>\n",
       "    <tr>\n",
       "      <th>Results with 3 seconds tolerance window feature mel_grill and latent space dimension of 32</th>\n",
       "      <td>0.7322</td>\n",
       "      <td>0.7752</td>\n",
       "      <td>0.7470</td>\n",
       "    </tr>\n",
       "  </tbody>\n",
       "</table>\n",
       "</div>"
      ],
      "text/plain": [
       "                                                    Precision  Recall  \\\n",
       "Results with 0.5 seconds tolerance window featu...     0.5220  0.5519   \n",
       "Results with 3 seconds tolerance window feature...     0.7322  0.7752   \n",
       "\n",
       "                                                    F measure  \n",
       "Results with 0.5 seconds tolerance window featu...     0.5323  \n",
       "Results with 3 seconds tolerance window feature...     0.7470  "
      ]
     },
     "metadata": {},
     "output_type": "display_data"
    },
    {
     "name": "stdout",
     "output_type": "stream",
     "text": [
      "dls: 40\n"
     ]
    },
    {
     "data": {
      "text/html": [
       "<div>\n",
       "<style scoped>\n",
       "    .dataframe tbody tr th:only-of-type {\n",
       "        vertical-align: middle;\n",
       "    }\n",
       "\n",
       "    .dataframe tbody tr th {\n",
       "        vertical-align: top;\n",
       "    }\n",
       "\n",
       "    .dataframe thead th {\n",
       "        text-align: right;\n",
       "    }\n",
       "</style>\n",
       "<table border=\"1\" class=\"dataframe\">\n",
       "  <thead>\n",
       "    <tr style=\"text-align: right;\">\n",
       "      <th></th>\n",
       "      <th>Precision</th>\n",
       "      <th>Recall</th>\n",
       "      <th>F measure</th>\n",
       "    </tr>\n",
       "  </thead>\n",
       "  <tbody>\n",
       "    <tr>\n",
       "      <th>Results with 0.5 seconds tolerance window feature mel_grill and latent space dimension of 40</th>\n",
       "      <td>0.5211</td>\n",
       "      <td>0.5534</td>\n",
       "      <td>0.5325</td>\n",
       "    </tr>\n",
       "    <tr>\n",
       "      <th>Results with 3 seconds tolerance window feature mel_grill and latent space dimension of 40</th>\n",
       "      <td>0.7306</td>\n",
       "      <td>0.7763</td>\n",
       "      <td>0.7466</td>\n",
       "    </tr>\n",
       "  </tbody>\n",
       "</table>\n",
       "</div>"
      ],
      "text/plain": [
       "                                                    Precision  Recall  \\\n",
       "Results with 0.5 seconds tolerance window featu...     0.5211  0.5534   \n",
       "Results with 3 seconds tolerance window feature...     0.7306  0.7763   \n",
       "\n",
       "                                                    F measure  \n",
       "Results with 0.5 seconds tolerance window featu...     0.5325  \n",
       "Results with 3 seconds tolerance window feature...     0.7466  "
      ]
     },
     "metadata": {},
     "output_type": "display_data"
    }
   ],
   "source": [
    "feature = \"mel_grill\"\n",
    "for dls in list_dim_latent:\n",
    "    print(f\"dls: {dls}\")\n",
    "    results = ta.final_results_fixed_conditions_rwc(dataset = \"full\", feature = feature, dim_latent_space = dls, \n",
    "                                                    sparsity_lambda = None, compute_if_not_persisted = compute_if_not_persisted, legend = f\"feature {feature} and latent space dimension of {dls}\")"
   ]
  },
  {
   "cell_type": "markdown",
   "metadata": {},
   "source": [
    "# Log Mel"
   ]
  },
  {
   "cell_type": "code",
   "execution_count": 6,
   "metadata": {
    "ExecuteTime": {
     "end_time": "2021-09-23T10:14:09.855391Z",
     "start_time": "2021-09-23T10:11:02.450901Z"
    }
   },
   "outputs": [
    {
     "name": "stdout",
     "output_type": "stream",
     "text": [
      "dls: 8\n"
     ]
    },
    {
     "data": {
      "text/html": [
       "<div>\n",
       "<style scoped>\n",
       "    .dataframe tbody tr th:only-of-type {\n",
       "        vertical-align: middle;\n",
       "    }\n",
       "\n",
       "    .dataframe tbody tr th {\n",
       "        vertical-align: top;\n",
       "    }\n",
       "\n",
       "    .dataframe thead th {\n",
       "        text-align: right;\n",
       "    }\n",
       "</style>\n",
       "<table border=\"1\" class=\"dataframe\">\n",
       "  <thead>\n",
       "    <tr style=\"text-align: right;\">\n",
       "      <th></th>\n",
       "      <th>Precision</th>\n",
       "      <th>Recall</th>\n",
       "      <th>F measure</th>\n",
       "    </tr>\n",
       "  </thead>\n",
       "  <tbody>\n",
       "    <tr>\n",
       "      <th>Results with 0.5 seconds tolerance window feature log_mel_grill and latent space dimension of 8</th>\n",
       "      <td>0.5563</td>\n",
       "      <td>0.5664</td>\n",
       "      <td>0.5572</td>\n",
       "    </tr>\n",
       "    <tr>\n",
       "      <th>Results with 3 seconds tolerance window feature log_mel_grill and latent space dimension of 8</th>\n",
       "      <td>0.7707</td>\n",
       "      <td>0.7846</td>\n",
       "      <td>0.7719</td>\n",
       "    </tr>\n",
       "  </tbody>\n",
       "</table>\n",
       "</div>"
      ],
      "text/plain": [
       "                                                    Precision  Recall  \\\n",
       "Results with 0.5 seconds tolerance window featu...     0.5563  0.5664   \n",
       "Results with 3 seconds tolerance window feature...     0.7707  0.7846   \n",
       "\n",
       "                                                    F measure  \n",
       "Results with 0.5 seconds tolerance window featu...     0.5572  \n",
       "Results with 3 seconds tolerance window feature...     0.7719  "
      ]
     },
     "metadata": {},
     "output_type": "display_data"
    },
    {
     "name": "stdout",
     "output_type": "stream",
     "text": [
      "dls: 16\n"
     ]
    },
    {
     "data": {
      "text/html": [
       "<div>\n",
       "<style scoped>\n",
       "    .dataframe tbody tr th:only-of-type {\n",
       "        vertical-align: middle;\n",
       "    }\n",
       "\n",
       "    .dataframe tbody tr th {\n",
       "        vertical-align: top;\n",
       "    }\n",
       "\n",
       "    .dataframe thead th {\n",
       "        text-align: right;\n",
       "    }\n",
       "</style>\n",
       "<table border=\"1\" class=\"dataframe\">\n",
       "  <thead>\n",
       "    <tr style=\"text-align: right;\">\n",
       "      <th></th>\n",
       "      <th>Precision</th>\n",
       "      <th>Recall</th>\n",
       "      <th>F measure</th>\n",
       "    </tr>\n",
       "  </thead>\n",
       "  <tbody>\n",
       "    <tr>\n",
       "      <th>Results with 0.5 seconds tolerance window feature log_mel_grill and latent space dimension of 16</th>\n",
       "      <td>0.5608</td>\n",
       "      <td>0.5738</td>\n",
       "      <td>0.5630</td>\n",
       "    </tr>\n",
       "    <tr>\n",
       "      <th>Results with 3 seconds tolerance window feature log_mel_grill and latent space dimension of 16</th>\n",
       "      <td>0.7868</td>\n",
       "      <td>0.8077</td>\n",
       "      <td>0.7918</td>\n",
       "    </tr>\n",
       "  </tbody>\n",
       "</table>\n",
       "</div>"
      ],
      "text/plain": [
       "                                                    Precision  Recall  \\\n",
       "Results with 0.5 seconds tolerance window featu...     0.5608  0.5738   \n",
       "Results with 3 seconds tolerance window feature...     0.7868  0.8077   \n",
       "\n",
       "                                                    F measure  \n",
       "Results with 0.5 seconds tolerance window featu...     0.5630  \n",
       "Results with 3 seconds tolerance window feature...     0.7918  "
      ]
     },
     "metadata": {},
     "output_type": "display_data"
    },
    {
     "name": "stdout",
     "output_type": "stream",
     "text": [
      "dls: 24\n"
     ]
    },
    {
     "data": {
      "text/html": [
       "<div>\n",
       "<style scoped>\n",
       "    .dataframe tbody tr th:only-of-type {\n",
       "        vertical-align: middle;\n",
       "    }\n",
       "\n",
       "    .dataframe tbody tr th {\n",
       "        vertical-align: top;\n",
       "    }\n",
       "\n",
       "    .dataframe thead th {\n",
       "        text-align: right;\n",
       "    }\n",
       "</style>\n",
       "<table border=\"1\" class=\"dataframe\">\n",
       "  <thead>\n",
       "    <tr style=\"text-align: right;\">\n",
       "      <th></th>\n",
       "      <th>Precision</th>\n",
       "      <th>Recall</th>\n",
       "      <th>F measure</th>\n",
       "    </tr>\n",
       "  </thead>\n",
       "  <tbody>\n",
       "    <tr>\n",
       "      <th>Results with 0.5 seconds tolerance window feature log_mel_grill and latent space dimension of 24</th>\n",
       "      <td>0.5948</td>\n",
       "      <td>0.6131</td>\n",
       "      <td>0.5993</td>\n",
       "    </tr>\n",
       "    <tr>\n",
       "      <th>Results with 3 seconds tolerance window feature log_mel_grill and latent space dimension of 24</th>\n",
       "      <td>0.7910</td>\n",
       "      <td>0.8172</td>\n",
       "      <td>0.7985</td>\n",
       "    </tr>\n",
       "  </tbody>\n",
       "</table>\n",
       "</div>"
      ],
      "text/plain": [
       "                                                    Precision  Recall  \\\n",
       "Results with 0.5 seconds tolerance window featu...     0.5948  0.6131   \n",
       "Results with 3 seconds tolerance window feature...     0.7910  0.8172   \n",
       "\n",
       "                                                    F measure  \n",
       "Results with 0.5 seconds tolerance window featu...     0.5993  \n",
       "Results with 3 seconds tolerance window feature...     0.7985  "
      ]
     },
     "metadata": {},
     "output_type": "display_data"
    },
    {
     "name": "stdout",
     "output_type": "stream",
     "text": [
      "dls: 32\n"
     ]
    },
    {
     "data": {
      "text/html": [
       "<div>\n",
       "<style scoped>\n",
       "    .dataframe tbody tr th:only-of-type {\n",
       "        vertical-align: middle;\n",
       "    }\n",
       "\n",
       "    .dataframe tbody tr th {\n",
       "        vertical-align: top;\n",
       "    }\n",
       "\n",
       "    .dataframe thead th {\n",
       "        text-align: right;\n",
       "    }\n",
       "</style>\n",
       "<table border=\"1\" class=\"dataframe\">\n",
       "  <thead>\n",
       "    <tr style=\"text-align: right;\">\n",
       "      <th></th>\n",
       "      <th>Precision</th>\n",
       "      <th>Recall</th>\n",
       "      <th>F measure</th>\n",
       "    </tr>\n",
       "  </thead>\n",
       "  <tbody>\n",
       "    <tr>\n",
       "      <th>Results with 0.5 seconds tolerance window feature log_mel_grill and latent space dimension of 32</th>\n",
       "      <td>0.5766</td>\n",
       "      <td>0.5915</td>\n",
       "      <td>0.5796</td>\n",
       "    </tr>\n",
       "    <tr>\n",
       "      <th>Results with 3 seconds tolerance window feature log_mel_grill and latent space dimension of 32</th>\n",
       "      <td>0.7840</td>\n",
       "      <td>0.8067</td>\n",
       "      <td>0.7899</td>\n",
       "    </tr>\n",
       "  </tbody>\n",
       "</table>\n",
       "</div>"
      ],
      "text/plain": [
       "                                                    Precision  Recall  \\\n",
       "Results with 0.5 seconds tolerance window featu...     0.5766  0.5915   \n",
       "Results with 3 seconds tolerance window feature...     0.7840  0.8067   \n",
       "\n",
       "                                                    F measure  \n",
       "Results with 0.5 seconds tolerance window featu...     0.5796  \n",
       "Results with 3 seconds tolerance window feature...     0.7899  "
      ]
     },
     "metadata": {},
     "output_type": "display_data"
    },
    {
     "name": "stdout",
     "output_type": "stream",
     "text": [
      "dls: 40\n"
     ]
    },
    {
     "data": {
      "text/html": [
       "<div>\n",
       "<style scoped>\n",
       "    .dataframe tbody tr th:only-of-type {\n",
       "        vertical-align: middle;\n",
       "    }\n",
       "\n",
       "    .dataframe tbody tr th {\n",
       "        vertical-align: top;\n",
       "    }\n",
       "\n",
       "    .dataframe thead th {\n",
       "        text-align: right;\n",
       "    }\n",
       "</style>\n",
       "<table border=\"1\" class=\"dataframe\">\n",
       "  <thead>\n",
       "    <tr style=\"text-align: right;\">\n",
       "      <th></th>\n",
       "      <th>Precision</th>\n",
       "      <th>Recall</th>\n",
       "      <th>F measure</th>\n",
       "    </tr>\n",
       "  </thead>\n",
       "  <tbody>\n",
       "    <tr>\n",
       "      <th>Results with 0.5 seconds tolerance window feature log_mel_grill and latent space dimension of 40</th>\n",
       "      <td>0.5862</td>\n",
       "      <td>0.5994</td>\n",
       "      <td>0.5884</td>\n",
       "    </tr>\n",
       "    <tr>\n",
       "      <th>Results with 3 seconds tolerance window feature log_mel_grill and latent space dimension of 40</th>\n",
       "      <td>0.7895</td>\n",
       "      <td>0.8080</td>\n",
       "      <td>0.7934</td>\n",
       "    </tr>\n",
       "  </tbody>\n",
       "</table>\n",
       "</div>"
      ],
      "text/plain": [
       "                                                    Precision  Recall  \\\n",
       "Results with 0.5 seconds tolerance window featu...     0.5862  0.5994   \n",
       "Results with 3 seconds tolerance window feature...     0.7895  0.8080   \n",
       "\n",
       "                                                    F measure  \n",
       "Results with 0.5 seconds tolerance window featu...     0.5884  \n",
       "Results with 3 seconds tolerance window feature...     0.7934  "
      ]
     },
     "metadata": {},
     "output_type": "display_data"
    }
   ],
   "source": [
    "feature = \"log_mel_grill\"\n",
    "for dls in list_dim_latent:\n",
    "    print(f\"dls: {dls}\")\n",
    "    results = ta.final_results_fixed_conditions_rwc(dataset = \"full\", feature = feature, dim_latent_space = dls,\n",
    "                                                    sparsity_lambda = None, compute_if_not_persisted = compute_if_not_persisted, legend = f\"feature {feature} and latent space dimension of {dls}\")"
   ]
  },
  {
   "cell_type": "markdown",
   "metadata": {},
   "source": [
    "# MFCC (32 coefficients)"
   ]
  },
  {
   "cell_type": "code",
   "execution_count": 7,
   "metadata": {
    "ExecuteTime": {
     "end_time": "2021-09-23T10:15:53.497101Z",
     "start_time": "2021-09-23T10:14:09.857386Z"
    }
   },
   "outputs": [
    {
     "name": "stdout",
     "output_type": "stream",
     "text": [
      "dls: 8\n"
     ]
    },
    {
     "data": {
      "text/html": [
       "<div>\n",
       "<style scoped>\n",
       "    .dataframe tbody tr th:only-of-type {\n",
       "        vertical-align: middle;\n",
       "    }\n",
       "\n",
       "    .dataframe tbody tr th {\n",
       "        vertical-align: top;\n",
       "    }\n",
       "\n",
       "    .dataframe thead th {\n",
       "        text-align: right;\n",
       "    }\n",
       "</style>\n",
       "<table border=\"1\" class=\"dataframe\">\n",
       "  <thead>\n",
       "    <tr style=\"text-align: right;\">\n",
       "      <th></th>\n",
       "      <th>Precision</th>\n",
       "      <th>Recall</th>\n",
       "      <th>F measure</th>\n",
       "    </tr>\n",
       "  </thead>\n",
       "  <tbody>\n",
       "    <tr>\n",
       "      <th>Results with 0.5 seconds tolerance window feature mfcc-nmfcc32 and latent space dimension of 8</th>\n",
       "      <td>0.5212</td>\n",
       "      <td>0.5171</td>\n",
       "      <td>0.5156</td>\n",
       "    </tr>\n",
       "    <tr>\n",
       "      <th>Results with 3 seconds tolerance window feature mfcc-nmfcc32 and latent space dimension of 8</th>\n",
       "      <td>0.7483</td>\n",
       "      <td>0.7400</td>\n",
       "      <td>0.7393</td>\n",
       "    </tr>\n",
       "  </tbody>\n",
       "</table>\n",
       "</div>"
      ],
      "text/plain": [
       "                                                    Precision  Recall  \\\n",
       "Results with 0.5 seconds tolerance window featu...     0.5212  0.5171   \n",
       "Results with 3 seconds tolerance window feature...     0.7483  0.7400   \n",
       "\n",
       "                                                    F measure  \n",
       "Results with 0.5 seconds tolerance window featu...     0.5156  \n",
       "Results with 3 seconds tolerance window feature...     0.7393  "
      ]
     },
     "metadata": {},
     "output_type": "display_data"
    },
    {
     "name": "stdout",
     "output_type": "stream",
     "text": [
      "dls: 16\n"
     ]
    },
    {
     "data": {
      "text/html": [
       "<div>\n",
       "<style scoped>\n",
       "    .dataframe tbody tr th:only-of-type {\n",
       "        vertical-align: middle;\n",
       "    }\n",
       "\n",
       "    .dataframe tbody tr th {\n",
       "        vertical-align: top;\n",
       "    }\n",
       "\n",
       "    .dataframe thead th {\n",
       "        text-align: right;\n",
       "    }\n",
       "</style>\n",
       "<table border=\"1\" class=\"dataframe\">\n",
       "  <thead>\n",
       "    <tr style=\"text-align: right;\">\n",
       "      <th></th>\n",
       "      <th>Precision</th>\n",
       "      <th>Recall</th>\n",
       "      <th>F measure</th>\n",
       "    </tr>\n",
       "  </thead>\n",
       "  <tbody>\n",
       "    <tr>\n",
       "      <th>Results with 0.5 seconds tolerance window feature mfcc-nmfcc32 and latent space dimension of 16</th>\n",
       "      <td>0.5134</td>\n",
       "      <td>0.5124</td>\n",
       "      <td>0.5089</td>\n",
       "    </tr>\n",
       "    <tr>\n",
       "      <th>Results with 3 seconds tolerance window feature mfcc-nmfcc32 and latent space dimension of 16</th>\n",
       "      <td>0.7539</td>\n",
       "      <td>0.7492</td>\n",
       "      <td>0.7462</td>\n",
       "    </tr>\n",
       "  </tbody>\n",
       "</table>\n",
       "</div>"
      ],
      "text/plain": [
       "                                                    Precision  Recall  \\\n",
       "Results with 0.5 seconds tolerance window featu...     0.5134  0.5124   \n",
       "Results with 3 seconds tolerance window feature...     0.7539  0.7492   \n",
       "\n",
       "                                                    F measure  \n",
       "Results with 0.5 seconds tolerance window featu...     0.5089  \n",
       "Results with 3 seconds tolerance window feature...     0.7462  "
      ]
     },
     "metadata": {},
     "output_type": "display_data"
    },
    {
     "name": "stdout",
     "output_type": "stream",
     "text": [
      "dls: 24\n"
     ]
    },
    {
     "data": {
      "text/html": [
       "<div>\n",
       "<style scoped>\n",
       "    .dataframe tbody tr th:only-of-type {\n",
       "        vertical-align: middle;\n",
       "    }\n",
       "\n",
       "    .dataframe tbody tr th {\n",
       "        vertical-align: top;\n",
       "    }\n",
       "\n",
       "    .dataframe thead th {\n",
       "        text-align: right;\n",
       "    }\n",
       "</style>\n",
       "<table border=\"1\" class=\"dataframe\">\n",
       "  <thead>\n",
       "    <tr style=\"text-align: right;\">\n",
       "      <th></th>\n",
       "      <th>Precision</th>\n",
       "      <th>Recall</th>\n",
       "      <th>F measure</th>\n",
       "    </tr>\n",
       "  </thead>\n",
       "  <tbody>\n",
       "    <tr>\n",
       "      <th>Results with 0.5 seconds tolerance window feature mfcc-nmfcc32 and latent space dimension of 24</th>\n",
       "      <td>0.5202</td>\n",
       "      <td>0.5205</td>\n",
       "      <td>0.5163</td>\n",
       "    </tr>\n",
       "    <tr>\n",
       "      <th>Results with 3 seconds tolerance window feature mfcc-nmfcc32 and latent space dimension of 24</th>\n",
       "      <td>0.7615</td>\n",
       "      <td>0.7573</td>\n",
       "      <td>0.7540</td>\n",
       "    </tr>\n",
       "  </tbody>\n",
       "</table>\n",
       "</div>"
      ],
      "text/plain": [
       "                                                    Precision  Recall  \\\n",
       "Results with 0.5 seconds tolerance window featu...     0.5202  0.5205   \n",
       "Results with 3 seconds tolerance window feature...     0.7615  0.7573   \n",
       "\n",
       "                                                    F measure  \n",
       "Results with 0.5 seconds tolerance window featu...     0.5163  \n",
       "Results with 3 seconds tolerance window feature...     0.7540  "
      ]
     },
     "metadata": {},
     "output_type": "display_data"
    },
    {
     "name": "stdout",
     "output_type": "stream",
     "text": [
      "dls: 32\n"
     ]
    },
    {
     "data": {
      "text/html": [
       "<div>\n",
       "<style scoped>\n",
       "    .dataframe tbody tr th:only-of-type {\n",
       "        vertical-align: middle;\n",
       "    }\n",
       "\n",
       "    .dataframe tbody tr th {\n",
       "        vertical-align: top;\n",
       "    }\n",
       "\n",
       "    .dataframe thead th {\n",
       "        text-align: right;\n",
       "    }\n",
       "</style>\n",
       "<table border=\"1\" class=\"dataframe\">\n",
       "  <thead>\n",
       "    <tr style=\"text-align: right;\">\n",
       "      <th></th>\n",
       "      <th>Precision</th>\n",
       "      <th>Recall</th>\n",
       "      <th>F measure</th>\n",
       "    </tr>\n",
       "  </thead>\n",
       "  <tbody>\n",
       "    <tr>\n",
       "      <th>Results with 0.5 seconds tolerance window feature mfcc-nmfcc32 and latent space dimension of 32</th>\n",
       "      <td>0.5185</td>\n",
       "      <td>0.5205</td>\n",
       "      <td>0.5155</td>\n",
       "    </tr>\n",
       "    <tr>\n",
       "      <th>Results with 3 seconds tolerance window feature mfcc-nmfcc32 and latent space dimension of 32</th>\n",
       "      <td>0.7567</td>\n",
       "      <td>0.7543</td>\n",
       "      <td>0.7501</td>\n",
       "    </tr>\n",
       "  </tbody>\n",
       "</table>\n",
       "</div>"
      ],
      "text/plain": [
       "                                                    Precision  Recall  \\\n",
       "Results with 0.5 seconds tolerance window featu...     0.5185  0.5205   \n",
       "Results with 3 seconds tolerance window feature...     0.7567  0.7543   \n",
       "\n",
       "                                                    F measure  \n",
       "Results with 0.5 seconds tolerance window featu...     0.5155  \n",
       "Results with 3 seconds tolerance window feature...     0.7501  "
      ]
     },
     "metadata": {},
     "output_type": "display_data"
    },
    {
     "name": "stdout",
     "output_type": "stream",
     "text": [
      "dls: 40\n"
     ]
    },
    {
     "data": {
      "text/html": [
       "<div>\n",
       "<style scoped>\n",
       "    .dataframe tbody tr th:only-of-type {\n",
       "        vertical-align: middle;\n",
       "    }\n",
       "\n",
       "    .dataframe tbody tr th {\n",
       "        vertical-align: top;\n",
       "    }\n",
       "\n",
       "    .dataframe thead th {\n",
       "        text-align: right;\n",
       "    }\n",
       "</style>\n",
       "<table border=\"1\" class=\"dataframe\">\n",
       "  <thead>\n",
       "    <tr style=\"text-align: right;\">\n",
       "      <th></th>\n",
       "      <th>Precision</th>\n",
       "      <th>Recall</th>\n",
       "      <th>F measure</th>\n",
       "    </tr>\n",
       "  </thead>\n",
       "  <tbody>\n",
       "    <tr>\n",
       "      <th>Results with 0.5 seconds tolerance window feature mfcc-nmfcc32 and latent space dimension of 40</th>\n",
       "      <td>0.543</td>\n",
       "      <td>0.5442</td>\n",
       "      <td>0.5396</td>\n",
       "    </tr>\n",
       "    <tr>\n",
       "      <th>Results with 3 seconds tolerance window feature mfcc-nmfcc32 and latent space dimension of 40</th>\n",
       "      <td>0.766</td>\n",
       "      <td>0.7637</td>\n",
       "      <td>0.7596</td>\n",
       "    </tr>\n",
       "  </tbody>\n",
       "</table>\n",
       "</div>"
      ],
      "text/plain": [
       "                                                    Precision  Recall  \\\n",
       "Results with 0.5 seconds tolerance window featu...      0.543  0.5442   \n",
       "Results with 3 seconds tolerance window feature...      0.766  0.7637   \n",
       "\n",
       "                                                    F measure  \n",
       "Results with 0.5 seconds tolerance window featu...     0.5396  \n",
       "Results with 3 seconds tolerance window feature...     0.7596  "
      ]
     },
     "metadata": {},
     "output_type": "display_data"
    }
   ],
   "source": [
    "feature = \"mfcc-nmfcc32\"\n",
    "for dls in list_dim_latent:\n",
    "    print(f\"dls: {dls}\")\n",
    "    results = ta.final_results_fixed_conditions_rwc(dataset = \"full\", feature = feature, dim_latent_space = dls,\n",
    "                                                    sparsity_lambda = None, compute_if_not_persisted = compute_if_not_persisted, legend = f\"feature {feature} and latent space dimension of {dls}\")"
   ]
  }
 ],
 "metadata": {
  "kernelspec": {
   "display_name": "Python 3 (ipykernel)",
   "language": "python",
   "name": "python3"
  },
  "language_info": {
   "codemirror_mode": {
    "name": "ipython",
    "version": 3
   },
   "file_extension": ".py",
   "mimetype": "text/x-python",
   "name": "python",
   "nbconvert_exporter": "python",
   "pygments_lexer": "ipython3",
   "version": "3.8.11"
  },
  "toc": {
   "base_numbering": 1,
   "nav_menu": {},
   "number_sections": true,
   "sideBar": true,
   "skip_h1_title": false,
   "title_cell": "Table of Contents",
   "title_sidebar": "Contents",
   "toc_cell": false,
   "toc_position": {},
   "toc_section_display": true,
   "toc_window_display": false
  },
  "varInspector": {
   "cols": {
    "lenName": 16,
    "lenType": 16,
    "lenVar": 40
   },
   "kernels_config": {
    "python": {
     "delete_cmd_postfix": "",
     "delete_cmd_prefix": "del ",
     "library": "var_list.py",
     "varRefreshCmd": "print(var_dic_list())"
    },
    "r": {
     "delete_cmd_postfix": ") ",
     "delete_cmd_prefix": "rm(",
     "library": "var_list.r",
     "varRefreshCmd": "cat(var_dic_list()) "
    }
   },
   "types_to_exclude": [
    "module",
    "function",
    "builtin_function_or_method",
    "instance",
    "_Feature"
   ],
   "window_display": false
  }
 },
 "nbformat": 4,
 "nbformat_minor": 4
}
