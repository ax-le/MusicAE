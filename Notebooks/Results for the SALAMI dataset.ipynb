{
 "cells": [
  {
   "cell_type": "code",
   "execution_count": 1,
   "metadata": {
    "ExecuteTime": {
     "end_time": "2021-09-23T12:17:04.006747Z",
     "start_time": "2021-09-23T12:16:56.587597Z"
    }
   },
   "outputs": [],
   "source": [
    "#import numpy as np\n",
    "import musicae.scripts.tests_article as ta"
   ]
  },
  {
   "cell_type": "code",
   "execution_count": null,
   "metadata": {},
   "outputs": [],
   "source": [
    "compute_if_not_persisted = False"
   ]
  },
  {
   "cell_type": "code",
   "execution_count": 2,
   "metadata": {
    "ExecuteTime": {
     "end_time": "2021-09-23T12:31:14.354118Z",
     "start_time": "2021-09-23T12:17:04.008741Z"
    }
   },
   "outputs": [
    {
     "name": "stdout",
     "output_type": "stream",
     "text": [
      "1248 not found, normal ?\n",
      "878 not found, normal ?\n"
     ]
    },
    {
     "data": {
      "text/html": [
       "<div>\n",
       "<style scoped>\n",
       "    .dataframe tbody tr th:only-of-type {\n",
       "        vertical-align: middle;\n",
       "    }\n",
       "\n",
       "    .dataframe tbody tr th {\n",
       "        vertical-align: top;\n",
       "    }\n",
       "\n",
       "    .dataframe thead th {\n",
       "        text-align: right;\n",
       "    }\n",
       "</style>\n",
       "<table border=\"1\" class=\"dataframe\">\n",
       "  <thead>\n",
       "    <tr style=\"text-align: right;\">\n",
       "      <th></th>\n",
       "      <th>Best latent space dimension</th>\n",
       "      <th>Number of songs in learning dataset</th>\n",
       "    </tr>\n",
       "  </thead>\n",
       "  <tbody>\n",
       "    <tr>\n",
       "      <th>Learned parameters</th>\n",
       "      <td>32</td>\n",
       "      <td>530</td>\n",
       "    </tr>\n",
       "  </tbody>\n",
       "</table>\n",
       "</div>"
      ],
      "text/plain": [
       "                    Best latent space dimension  \\\n",
       "Learned parameters                           32   \n",
       "\n",
       "                    Number of songs in learning dataset  \n",
       "Learned parameters                                  530  "
      ]
     },
     "metadata": {},
     "output_type": "display_data"
    },
    {
     "name": "stdout",
     "output_type": "stream",
     "text": [
      "70 not found, normal ?\n",
      "63 not found, normal ?\n",
      "261 not found, normal ?\n",
      "Tested on 824 songs\n"
     ]
    },
    {
     "data": {
      "text/html": [
       "<div>\n",
       "<style scoped>\n",
       "    .dataframe tbody tr th:only-of-type {\n",
       "        vertical-align: middle;\n",
       "    }\n",
       "\n",
       "    .dataframe tbody tr th {\n",
       "        vertical-align: top;\n",
       "    }\n",
       "\n",
       "    .dataframe thead th {\n",
       "        text-align: right;\n",
       "    }\n",
       "</style>\n",
       "<table border=\"1\" class=\"dataframe\">\n",
       "  <thead>\n",
       "    <tr style=\"text-align: right;\">\n",
       "      <th></th>\n",
       "      <th>Precision 0.5</th>\n",
       "      <th>Recall 0.5</th>\n",
       "      <th>F measure 0.5</th>\n",
       "      <th>Precision 3</th>\n",
       "      <th>Recall 3</th>\n",
       "      <th>F measure 3</th>\n",
       "    </tr>\n",
       "  </thead>\n",
       "  <tbody>\n",
       "    <tr>\n",
       "      <th>On barwise feature</th>\n",
       "      <td>0.2881</td>\n",
       "      <td>0.3872</td>\n",
       "      <td>0.3196</td>\n",
       "      <td>0.4854</td>\n",
       "      <td>0.6529</td>\n",
       "      <td>0.5389</td>\n",
       "    </tr>\n",
       "    <tr>\n",
       "      <th>On the latent representation</th>\n",
       "      <td>0.3284</td>\n",
       "      <td>0.4453</td>\n",
       "      <td>0.3664</td>\n",
       "      <td>0.5317</td>\n",
       "      <td>0.7202</td>\n",
       "      <td>0.5932</td>\n",
       "    </tr>\n",
       "  </tbody>\n",
       "</table>\n",
       "</div>"
      ],
      "text/plain": [
       "                              Precision 0.5  Recall 0.5  F measure 0.5  \\\n",
       "On barwise feature                   0.2881      0.3872         0.3196   \n",
       "On the latent representation         0.3284      0.4453         0.3664   \n",
       "\n",
       "                              Precision 3  Recall 3  F measure 3  \n",
       "On barwise feature                 0.4854    0.6529       0.5389  \n",
       "On the latent representation       0.5317    0.7202       0.5932  "
      ]
     },
     "metadata": {},
     "output_type": "display_data"
    }
   ],
   "source": [
    "feature = \"log_mel_grill\"\n",
    "list_dim_latent_space = [8,16,24,32,40]\n",
    "ta.learn_and_test_salami(feature = feature, sparsity_lambda = None, list_dim_latent_space = list_dim_latent_space, \n",
    "                         convolution_type = \"mixed\", penalty_func = \"modulo8\", penalty_weight = 1, compute_if_not_persisted = compute_if_not_persisted)"
   ]
  }
 ],
 "metadata": {
  "kernelspec": {
   "display_name": "Python 3 (ipykernel)",
   "language": "python",
   "name": "python3"
  },
  "language_info": {
   "codemirror_mode": {
    "name": "ipython",
    "version": 3
   },
   "file_extension": ".py",
   "mimetype": "text/x-python",
   "name": "python",
   "nbconvert_exporter": "python",
   "pygments_lexer": "ipython3",
   "version": "3.8.11"
  },
  "toc": {
   "base_numbering": 1,
   "nav_menu": {},
   "number_sections": true,
   "sideBar": true,
   "skip_h1_title": false,
   "title_cell": "Table of Contents",
   "title_sidebar": "Contents",
   "toc_cell": false,
   "toc_position": {},
   "toc_section_display": true,
   "toc_window_display": false
  },
  "varInspector": {
   "cols": {
    "lenName": 16,
    "lenType": 16,
    "lenVar": 40
   },
   "kernels_config": {
    "python": {
     "delete_cmd_postfix": "",
     "delete_cmd_prefix": "del ",
     "library": "var_list.py",
     "varRefreshCmd": "print(var_dic_list())"
    },
    "r": {
     "delete_cmd_postfix": ") ",
     "delete_cmd_prefix": "rm(",
     "library": "var_list.r",
     "varRefreshCmd": "cat(var_dic_list()) "
    }
   },
   "types_to_exclude": [
    "module",
    "function",
    "builtin_function_or_method",
    "instance",
    "_Feature"
   ],
   "window_display": false
  }
 },
 "nbformat": 4,
 "nbformat_minor": 4
}
